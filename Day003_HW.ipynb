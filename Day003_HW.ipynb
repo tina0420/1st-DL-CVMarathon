{
 "cells": [
  {
   "cell_type": "markdown",
   "metadata": {},
   "source": [
    "# Python 下載XML檔案與解析\n",
    "\n",
    "\n",
    "* 了解 xml 檔案格式與內容\n",
    "* 能夠利用套件存取 xml 格式的檔案\n"
   ]
  },
  {
   "cell_type": "markdown",
   "metadata": {},
   "source": [
    "## 作業目標\n",
    "\n",
    "* 比較一下範例檔案中的「File I/O」與「xmltodict」讀出來的內容有什麼差異\n",
    "\n",
    "* 根據範例檔案的結果：\n",
    "    1. 請問高雄市有多少地區有溫度資料？\n",
    "    2. 請取出每一個地區所記錄的第一個時間點跟溫度\n",
    "    3. 請取出第一個地區所記錄的每一個時間點跟溫度"
   ]
  },
  {
   "cell_type": "markdown",
   "metadata": {},
   "source": [
    "### 比較一下範例檔案中的「File I/O」與「xmltodict」讀出來的內容有什麼差異\n"
   ]
  },
  {
   "cell_type": "code",
   "execution_count": 106,
   "metadata": {},
   "outputs": [],
   "source": [
    "#已下載檔案並做解壓縮動作\n",
    "# File I/O\n",
    "print(\"File I/0:\")\n",
    "with open(\"./Data/example/Day003/63_72hr_CH.xml\",\"r\",encoding=\"utf-8\") as xmlfile:\n",
    "    fh = xmlfile.read()\n",
    "print(fh)\n",
    "\n",
    "# xmltodict\n",
    "import xmltodict\n",
    "print(\"xmitodict:\")\n",
    "with open('./Data/example/Day003/63_72hr_CH.xml',encoding='utf-8') as fd:\n",
    "    doc = dict(xmltodict.parse(fd.read()))\n",
    "print(doc)\n",
    "# # File I/O會以xml的格式表示出來，xmltodict是像dict的格式一層又一層"
   ]
  },
  {
   "cell_type": "markdown",
   "metadata": {},
   "source": [
    "### 根據範例檔案的結果：\n",
    "\n",
    "1. 請問高雄市有多少地區有溫度資料？\n",
    "2. 請取出每一個地區所記錄的第一個時間點跟溫度\n",
    "3. 請取出第一個地區所記錄的每一個時間點跟溫度"
   ]
  },
  {
   "cell_type": "code",
   "execution_count": 28,
   "metadata": {},
   "outputs": [
    {
     "name": "stdout",
     "output_type": "stream",
     "text": [
      "38\n"
     ]
    }
   ],
   "source": [
    "# 1. 請問高雄市有多少地區有溫度資料？\n",
    "#存取檔案\n",
    "import xmltodict\n",
    "with open('./Data/example/Day003/64_72hr_CH.xml',encoding='utf-8') as kaoxml:\n",
    "    doc = dict(xmltodict.parse(kaoxml.read()))\n",
    "# sub = 'locationName'\n",
    "location = doc['cwbopendata']['dataset']['locations']['location']\n",
    "# print(location.count(sub)/2)\n",
    "print(len(location))"
   ]
  },
  {
   "cell_type": "code",
   "execution_count": 82,
   "metadata": {},
   "outputs": [
    {
     "name": "stdout",
     "output_type": "stream",
     "text": [
      "鹽埕區 2019-06-28T12:00:00+08:00 33 度\n",
      "鼓山區 2019-06-28T12:00:00+08:00 33 度\n",
      "左營區 2019-06-28T12:00:00+08:00 33 度\n",
      "楠梓區 2019-06-28T12:00:00+08:00 34 度\n",
      "三民區 2019-06-28T12:00:00+08:00 32 度\n",
      "新興區 2019-06-28T12:00:00+08:00 33 度\n",
      "前金區 2019-06-28T12:00:00+08:00 33 度\n",
      "苓雅區 2019-06-28T12:00:00+08:00 33 度\n",
      "前鎮區 2019-06-28T12:00:00+08:00 33 度\n",
      "旗津區 2019-06-28T12:00:00+08:00 32 度\n",
      "小港區 2019-06-28T12:00:00+08:00 33 度\n",
      "鳳山區 2019-06-28T12:00:00+08:00 34 度\n",
      "林園區 2019-06-28T12:00:00+08:00 33 度\n",
      "大寮區 2019-06-28T12:00:00+08:00 34 度\n",
      "大樹區 2019-06-28T12:00:00+08:00 34 度\n",
      "大社區 2019-06-28T12:00:00+08:00 34 度\n",
      "仁武區 2019-06-28T12:00:00+08:00 33 度\n",
      "鳥松區 2019-06-28T12:00:00+08:00 34 度\n",
      "岡山區 2019-06-28T12:00:00+08:00 34 度\n",
      "橋頭區 2019-06-28T12:00:00+08:00 35 度\n",
      "燕巢區 2019-06-28T12:00:00+08:00 34 度\n",
      "田寮區 2019-06-28T12:00:00+08:00 34 度\n",
      "阿蓮區 2019-06-28T12:00:00+08:00 34 度\n",
      "路竹區 2019-06-28T12:00:00+08:00 33 度\n",
      "湖內區 2019-06-28T12:00:00+08:00 33 度\n",
      "茄萣區 2019-06-28T12:00:00+08:00 33 度\n",
      "永安區 2019-06-28T12:00:00+08:00 32 度\n",
      "彌陀區 2019-06-28T12:00:00+08:00 32 度\n",
      "梓官區 2019-06-28T12:00:00+08:00 32 度\n",
      "旗山區 2019-06-28T12:00:00+08:00 34 度\n",
      "美濃區 2019-06-28T12:00:00+08:00 34 度\n",
      "六龜區 2019-06-28T12:00:00+08:00 34 度\n",
      "甲仙區 2019-06-28T12:00:00+08:00 33 度\n",
      "杉林區 2019-06-28T12:00:00+08:00 36 度\n",
      "內門區 2019-06-28T12:00:00+08:00 34 度\n",
      "茂林區 2019-06-28T12:00:00+08:00 34 度\n",
      "桃源區 2019-06-28T12:00:00+08:00 31 度\n",
      "那瑪夏區 2019-06-28T12:00:00+08:00 29 度\n"
     ]
    }
   ],
   "source": [
    "# 2. 請取出每一個地區所記錄的第一個時間點跟溫度\n",
    "import xmltodict\n",
    "with open('./Data/example/Day003/64_72hr_CH.xml',encoding='utf-8') as xmlfile:\n",
    "    doc = dict(xmltodict.parse(xmlfile.read()))\n",
    "# print(location)\n",
    "for datas in location:\n",
    "    where = datas['locationName']\n",
    "    time = datas['weatherElement'][0]['time'][0]['dataTime']\n",
    "    tem = datas['weatherElement'][0]['time'][0]['elementValue']['value']\n",
    "    print(where,time,tem,'度')"
   ]
  },
  {
   "cell_type": "code",
   "execution_count": 100,
   "metadata": {},
   "outputs": [
    {
     "name": "stdout",
     "output_type": "stream",
     "text": [
      "2019-06-28T12:00:00+08:00 33 度\n",
      "2019-06-28T15:00:00+08:00 33 度\n",
      "2019-06-28T18:00:00+08:00 32 度\n",
      "2019-06-28T21:00:00+08:00 30 度\n",
      "2019-06-29T00:00:00+08:00 30 度\n",
      "2019-06-29T03:00:00+08:00 29 度\n",
      "2019-06-29T06:00:00+08:00 28 度\n",
      "2019-06-29T09:00:00+08:00 31 度\n",
      "2019-06-29T12:00:00+08:00 32 度\n",
      "2019-06-29T15:00:00+08:00 32 度\n",
      "2019-06-29T18:00:00+08:00 31 度\n",
      "2019-06-29T21:00:00+08:00 30 度\n",
      "2019-06-30T00:00:00+08:00 29 度\n",
      "2019-06-30T03:00:00+08:00 28 度\n",
      "2019-06-30T06:00:00+08:00 28 度\n",
      "2019-06-30T09:00:00+08:00 31 度\n",
      "2019-06-30T12:00:00+08:00 32 度\n",
      "2019-06-30T15:00:00+08:00 32 度\n",
      "2019-06-30T18:00:00+08:00 31 度\n",
      "2019-06-30T21:00:00+08:00 30 度\n",
      "2019-07-01T00:00:00+08:00 29 度\n",
      "2019-07-01T03:00:00+08:00 29 度\n",
      "2019-07-01T06:00:00+08:00 28 度\n",
      "2019-07-01T09:00:00+08:00 31 度\n"
     ]
    }
   ],
   "source": [
    "# 3. 請取出第一個地區所記錄的每一個時間點跟溫度\n",
    "locations = location[0]\n",
    "# print(datas)\n",
    "\n",
    "datas = locations['weatherElement'][0]['time']\n",
    "for data in datas: \n",
    "    time = data['dataTime']\n",
    "    tem = data['elementValue']['value']\n",
    "    print(time,tem,'度')"
   ]
  },
  {
   "cell_type": "code",
   "execution_count": null,
   "metadata": {},
   "outputs": [],
   "source": []
  }
 ],
 "metadata": {
  "kernelspec": {
   "display_name": "Python 3",
   "language": "python",
   "name": "python3"
  },
  "language_info": {
   "codemirror_mode": {
    "name": "ipython",
    "version": 3
   },
   "file_extension": ".py",
   "mimetype": "text/x-python",
   "name": "python",
   "nbconvert_exporter": "python",
   "pygments_lexer": "ipython3",
   "version": "3.7.4"
  }
 },
 "nbformat": 4,
 "nbformat_minor": 2
}
